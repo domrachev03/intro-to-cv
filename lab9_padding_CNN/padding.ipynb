{
 "cells": [
  {
   "cell_type": "markdown",
   "metadata": {},
   "source": [
    "# Lab 10. Padding layer\n",
    "by Domrachev Ivan, B20-Ro-01"
   ]
  },
  {
   "cell_type": "code",
   "execution_count": 1,
   "metadata": {},
   "outputs": [
    {
     "name": "stderr",
     "output_type": "stream",
     "text": [
      "2023-11-10 17:36:09.583197: I tensorflow/tsl/cuda/cudart_stub.cc:28] Could not find cuda drivers on your machine, GPU will not be used.\n",
      "2023-11-10 17:36:09.644114: I tensorflow/tsl/cuda/cudart_stub.cc:28] Could not find cuda drivers on your machine, GPU will not be used.\n",
      "2023-11-10 17:36:09.645285: I tensorflow/core/platform/cpu_feature_guard.cc:182] This TensorFlow binary is optimized to use available CPU instructions in performance-critical operations.\n",
      "To enable the following instructions: AVX2 FMA, in other operations, rebuild TensorFlow with the appropriate compiler flags.\n"
     ]
    },
    {
     "name": "stderr",
     "output_type": "stream",
     "text": [
      "2023-11-10 17:36:10.951408: W tensorflow/compiler/tf2tensorrt/utils/py_utils.cc:38] TF-TRT Warning: Could not find TensorRT\n"
     ]
    }
   ],
   "source": [
    "from keras.datasets import mnist\n",
    "from nn_from_scratch.optimizers import GradientDescent\n",
    "from nn_from_scratch.examples.simple_nn import NeuralNetwork\n",
    "from nn_from_scratch.nodes import ReLU, SoftMaxLoss, Vectorization\n",
    "from nn_from_scratch.neurons import Linear, Convolution\n",
    "from nn_from_scratch.interfaces import Neuron\n",
    "import tensorflow as tf\n",
    "from tensorflow.keras import layers as t_layers\n",
    "\n",
    "\n",
    "import numpy as np\n",
    "from matplotlib import pyplot as plt"
   ]
  },
  {
   "cell_type": "markdown",
   "metadata": {},
   "source": [
    "## Part 1. Padding implementation"
   ]
  },
  {
   "cell_type": "markdown",
   "metadata": {},
   "source": [
    "The implementation of padding is quite straight-forward: when doing forward propogation, one add zeros to the input image, and when doing backpropogation, just trim the partial derivative of output matrix to a required size."
   ]
  },
  {
   "cell_type": "code",
   "execution_count": 2,
   "metadata": {},
   "outputs": [],
   "source": [
    "input_dim = (2, 3, 4, 5)\n",
    "kernel_size = 3\n",
    "output_layers = 20\n",
    "padding = 1\n",
    "conv = Convolution(input_dim, kernel_size, output_layers=output_layers, padding=padding)\n",
    "output_dim = conv._output_dim\n",
    "\n",
    "# Random input values (x itself, and assumed partial derivative)\n",
    "x_input = np.random.random(input_dim)\n",
    "dL_dy = np.random.random(output_dim)\n",
    "\n",
    "output = conv.forward(x_input)\n",
    "dL_dx = conv.backward(dL_dy)\n",
    "dL_dw = conv._W_pd\n",
    "bias = conv._B\n",
    "dL_db = conv._B_pd"
   ]
  },
  {
   "cell_type": "code",
   "execution_count": 3,
   "metadata": {},
   "outputs": [
    {
     "name": "stdout",
     "output_type": "stream",
     "text": [
      "(2, 3, 4, 5)\n"
     ]
    }
   ],
   "source": [
    "print(dL_dx.shape)"
   ]
  },
  {
   "cell_type": "markdown",
   "metadata": {},
   "source": [
    "As before, let's compare its performance with tensorflow implementation. Since `keras` does not allow to explicitely set the padding size, let's use `padding='same'`. It will add the padding to leave the picture of the same shape. Therefore, there would be the same padding as in our convolutional layer:"
   ]
  },
  {
   "cell_type": "code",
   "execution_count": 4,
   "metadata": {},
   "outputs": [
    {
     "name": "stderr",
     "output_type": "stream",
     "text": [
      "2023-11-10 17:36:13.667262: I tensorflow/compiler/xla/stream_executor/cuda/cuda_gpu_executor.cc:995] successful NUMA node read from SysFS had negative value (-1), but there must be at least one NUMA node, so returning NUMA node zero. See more at https://github.com/torvalds/linux/blob/v6.0/Documentation/ABI/testing/sysfs-bus-pci#L344-L355\n",
      "2023-11-10 17:36:13.668741: W tensorflow/core/common_runtime/gpu/gpu_device.cc:1960] Cannot dlopen some GPU libraries. Please make sure the missing libraries mentioned above are installed properly if you would like to use GPU. Follow the guide at https://www.tensorflow.org/install/gpu for how to download and setup the required libraries for your platform.\n",
      "Skipping registering GPU devices...\n"
     ]
    }
   ],
   "source": [
    "x_input_batched = tf.constant(\n",
    "    np.moveaxis(\n",
    "        x_input,\n",
    "        1, -1\n",
    "    ), \n",
    "    dtype=tf.float32\n",
    ")\n",
    "\n",
    "weights_reshaped = tf.constant(\n",
    "    np.moveaxis(\n",
    "        conv.W,\n",
    "        0, -1\n",
    "    ), \n",
    "    dtype=tf.float32\n",
    ")"
   ]
  },
  {
   "cell_type": "code",
   "execution_count": 5,
   "metadata": {},
   "outputs": [
    {
     "data": {
      "text/plain": [
       "TensorShape([2, 4, 5, 3])"
      ]
     },
     "execution_count": 5,
     "metadata": {},
     "output_type": "execute_result"
    }
   ],
   "source": [
    "x_input_batched.shape"
   ]
  },
  {
   "cell_type": "code",
   "execution_count": 6,
   "metadata": {},
   "outputs": [],
   "source": [
    "conv_keras = t_layers.Conv2D(\n",
    "    20, 3, \n",
    "    input_shape=x_input_batched.shape[1:],\n",
    "    use_bias=False,\n",
    "    padding='same',\n",
    "    kernel_initializer=tf.keras.initializers.Constant(weights_reshaped)\n",
    ")"
   ]
  },
  {
   "cell_type": "code",
   "execution_count": 7,
   "metadata": {},
   "outputs": [],
   "source": [
    "with tf.GradientTape(persistent=True) as tape:\n",
    "    tape.watch(x_input_batched)  # Watch the input tensor for gradient computation\n",
    "    conv_output = conv_keras(x_input_batched)\n",
    "\n",
    "conv_output_np = conv_output.numpy().transpose(0, 3, 1, 2).squeeze()"
   ]
  },
  {
   "cell_type": "markdown",
   "metadata": {},
   "source": [
    "1. Check that layer output is correct"
   ]
  },
  {
   "cell_type": "code",
   "execution_count": 8,
   "metadata": {},
   "outputs": [
    {
     "data": {
      "text/plain": [
       "True"
      ]
     },
     "execution_count": 8,
     "metadata": {},
     "output_type": "execute_result"
    }
   ],
   "source": [
    "np.all((conv_output_np - output[0]) < 1)"
   ]
  },
  {
   "cell_type": "markdown",
   "metadata": {},
   "source": [
    "2. Check that backpropogation for both input and weights is correct"
   ]
  },
  {
   "cell_type": "code",
   "execution_count": 9,
   "metadata": {},
   "outputs": [],
   "source": [
    "dL_dy_keras = tf.constant(np.moveaxis(dL_dy, 1, -1), dtype=tf.float32)\n",
    "\n",
    "dL_dx_keras = tape.gradient(\n",
    "    conv_output, x_input_batched, output_gradients=dL_dy_keras\n",
    ")\n",
    "dL_dw_keras = tape.gradient(\n",
    "    conv_output, conv_keras.trainable_variables, output_gradients=dL_dy_keras\n",
    ")\n",
    "\n",
    "dL_dx_keras_np = np.moveaxis(dL_dx_keras[0].numpy().squeeze(), -1, 0)\n",
    "dL_dw_keras_np = np.moveaxis(dL_dw_keras[0].numpy().squeeze(), -1, 0)"
   ]
  },
  {
   "cell_type": "code",
   "execution_count": 10,
   "metadata": {},
   "outputs": [
    {
     "data": {
      "text/plain": [
       "True"
      ]
     },
     "execution_count": 10,
     "metadata": {},
     "output_type": "execute_result"
    }
   ],
   "source": [
    "np.all((dL_dx_keras_np - dL_dx[0]) < 1)"
   ]
  },
  {
   "cell_type": "code",
   "execution_count": 11,
   "metadata": {},
   "outputs": [
    {
     "data": {
      "text/plain": [
       "True"
      ]
     },
     "execution_count": 11,
     "metadata": {},
     "output_type": "execute_result"
    }
   ],
   "source": [
    "np.all((dL_dw_keras_np - np.moveaxis(dL_dw, 1, -1)) < 1e-4)"
   ]
  },
  {
   "cell_type": "markdown",
   "metadata": {},
   "source": [
    "## Part 2. Incorporating padding in CNN"
   ]
  },
  {
   "cell_type": "markdown",
   "metadata": {},
   "source": [
    "Now, let's integrate it in a complete neural network. It probably would not work well, since I still haven't fixes the CNN, but it will at least launch."
   ]
  },
  {
   "cell_type": "code",
   "execution_count": 12,
   "metadata": {},
   "outputs": [],
   "source": [
    "(train_X, train_y), (test_X, test_y) = mnist.load_data()\n",
    "# CNN are slow...\n",
    "train_X = train_X[:1000]\n",
    "n_input, n_output, batch_size, n_channels = 28**2, 10, 50, 1\n",
    "assert train_X.shape[0] % batch_size == 0\n",
    "\n",
    "train_X = train_X.reshape(train_X.shape[0] // batch_size, batch_size, n_channels, 28, 28)\n",
    "train_y_ohe = np.zeros((len(train_y), n_output))\n",
    "train_y_ohe[np.arange(len(train_y)), train_y] = 1\n",
    "train_y_ohe = train_y_ohe.reshape((train_y.shape[0] // batch_size, batch_size, n_output))"
   ]
  },
  {
   "cell_type": "markdown",
   "metadata": {},
   "source": [
    "The values preferably should belong to $[0; 1]$:"
   ]
  },
  {
   "cell_type": "code",
   "execution_count": 13,
   "metadata": {},
   "outputs": [],
   "source": [
    "train_X = train_X / 255\n",
    "test_X = test_X / 255"
   ]
  },
  {
   "cell_type": "markdown",
   "metadata": {},
   "source": [
    "Now, let's train!"
   ]
  },
  {
   "cell_type": "code",
   "execution_count": 14,
   "metadata": {},
   "outputs": [
    {
     "name": "stderr",
     "output_type": "stream",
     "text": [
      "100%|██████████| 20/20 [01:33<00:00,  4.68s/it, loss=2.27]\n"
     ]
    },
    {
     "name": "stdout",
     "output_type": "stream",
     "text": [
      "Epoch 1, Loss: 2.268403443126829\n"
     ]
    },
    {
     "name": "stderr",
     "output_type": "stream",
     "text": [
      "100%|██████████| 20/20 [01:21<00:00,  4.07s/it, loss=2.25]"
     ]
    },
    {
     "name": "stdout",
     "output_type": "stream",
     "text": [
      "Epoch 2, Loss: 2.247522820650666\n"
     ]
    },
    {
     "name": "stderr",
     "output_type": "stream",
     "text": [
      "\n"
     ]
    },
    {
     "data": {
      "text/plain": [
       "array([2.24752282])"
      ]
     },
     "execution_count": 14,
     "metadata": {},
     "output_type": "execute_result"
    }
   ],
   "source": [
    "gds = GradientDescent(lr=0.5)\n",
    "layers = [\n",
    "    Convolution(\n",
    "        (batch_size, n_channels, 28, 28), \n",
    "        kernel_size=3, \n",
    "        output_layers=4,\n",
    "        padding=1,          # here is padding\n",
    "        use_bias=False\n",
    "    ),\n",
    "    ReLU((batch_size, 4, 28, 28)),\n",
    "    Convolution(\n",
    "        (batch_size, 4, 28, 28), \n",
    "        kernel_size=7,\n",
    "        output_layers=2,\n",
    "        use_bias=False\n",
    "    ),\n",
    "    ReLU((batch_size, 2, 22, 22)),\n",
    "    Vectorization((batch_size, 2, 22, 22)),\n",
    "    Linear((batch_size, 968), (batch_size, n_output))\n",
    "]\n",
    "loss_fn = SoftMaxLoss((batch_size, n_output))\n",
    "network = NeuralNetwork(\n",
    "    n_input=n_input, \n",
    "    n_output=n_output, \n",
    "    batch_size=batch_size, \n",
    "    optimizer=gds,\n",
    "    layers=layers,  \n",
    "    loss_fn=loss_fn\n",
    ")\n",
    "network.fit(train_X, train_y_ohe, n_epochs=2)"
   ]
  },
  {
   "cell_type": "markdown",
   "metadata": {},
   "source": [
    "Great, loss is decreasing very slowly. Strange, let's check the predictions:"
   ]
  },
  {
   "cell_type": "code",
   "execution_count": 15,
   "metadata": {},
   "outputs": [],
   "source": [
    "def compute_accuracy(test_X: np.array, test_y: np.array, model) -> float:\n",
    "    correct_predictions = 0\n",
    "    total = 0\n",
    "\n",
    "    for test_inputs, test_labels in zip(test_X, test_y):\n",
    "        predicts = model.predict(test_inputs)\n",
    "        pred_class = np.argmax(predicts, axis=1)\n",
    "\n",
    "        correct_predictions += (pred_class == test_labels).sum()\n",
    "        total += len(test_labels)\n",
    "\n",
    "    return correct_predictions / total"
   ]
  },
  {
   "cell_type": "code",
   "execution_count": 16,
   "metadata": {},
   "outputs": [
    {
     "name": "stdout",
     "output_type": "stream",
     "text": [
      "Accuracy: 0.1046\n"
     ]
    }
   ],
   "source": [
    "test_X_batches = test_X.reshape((test_X.shape[0] // batch_size, batch_size, 28, 28))\n",
    "test_y_batches = test_y.reshape((test_y.shape[0] // batch_size, batch_size,))\n",
    "\n",
    "acc = compute_accuracy(test_X_batches, test_y_batches, network)\n",
    "print(f\"Accuracy: {acc}\")"
   ]
  },
  {
   "cell_type": "markdown",
   "metadata": {},
   "source": [
    "Well, they are random... Maybe the model itself is invalid, let's train tensorflow analogue"
   ]
  },
  {
   "cell_type": "markdown",
   "metadata": {},
   "source": [
    "## Part 3. Designing convolution for given output shape"
   ]
  },
  {
   "cell_type": "markdown",
   "metadata": {},
   "source": [
    "> Create a function that takes as inputs the size of the input image and the desired size of the output image size at the k-th CONV-layer, and produces as output the appropriate padding and filter sizes, such that the amount of padding is minimized"
   ]
  },
  {
   "cell_type": "markdown",
   "metadata": {},
   "source": [
    "The task is straight-forward, since:\n",
    "1. To decrease image size by $N$, kernel of the size $N+1$ could be applied to achieve desired result. Then, it's always possible.\n",
    "2. To increase image size by $N$, one needs to consider options:\n",
    "   1. If $N$ is even, then kernel of the size $1$ with padding $\\frac{N}{2}$ could be applied to achieve desired result. Then, it's always possible.\n",
    "   2. If $N$ is odd, then kernel of the size $2$ with padding $\\frac{N+1}{2}$ could be applied to achieve desired result. Then, it's always possible.\n",
    "\n",
    "\n",
    "As such, it's always possible to complete class in one move. "
   ]
  },
  {
   "cell_type": "code",
   "execution_count": 17,
   "metadata": {},
   "outputs": [],
   "source": [
    "from collections.abc import Iterable\n",
    "\n",
    "def find_conv(dim_init: int, dim_final: int, k: int) -> Iterable[tuple]:\n",
    "    N = dim_final - dim_init\n",
    "    kernels = []\n",
    "    if N < 0:\n",
    "        kernels.append((-N+1, 0))\n",
    "    else:\n",
    "        if N % 2 == 0:\n",
    "            kernels.append((1, N//2))\n",
    "        else:\n",
    "            kernels.append((2, (N+1)//2))\n",
    "    \n",
    "    kernels.extend([(1, 0) for _ in range(k-1)])\n",
    "\n",
    "    for k in kernels:\n",
    "        print(f\"({k[0]}x{k[0]}) kernel, {k[1]} padding\")\n",
    "    \n",
    "    return kernels"
   ]
  },
  {
   "cell_type": "code",
   "execution_count": 18,
   "metadata": {},
   "outputs": [
    {
     "name": "stdout",
     "output_type": "stream",
     "text": [
      "(1x1) kernel, 2 padding\n",
      "(1x1) kernel, 0 padding\n",
      "(1x1) kernel, 0 padding\n"
     ]
    },
    {
     "data": {
      "text/plain": [
       "[(1, 2), (1, 0), (1, 0)]"
      ]
     },
     "execution_count": 18,
     "metadata": {},
     "output_type": "execute_result"
    }
   ],
   "source": [
    "find_conv(21, 25, 3)"
   ]
  },
  {
   "cell_type": "code",
   "execution_count": 19,
   "metadata": {},
   "outputs": [
    {
     "name": "stdout",
     "output_type": "stream",
     "text": [
      "(2x2) kernel, 3 padding\n",
      "(1x1) kernel, 0 padding\n",
      "(1x1) kernel, 0 padding\n"
     ]
    },
    {
     "data": {
      "text/plain": [
       "[(2, 3), (1, 0), (1, 0)]"
      ]
     },
     "execution_count": 19,
     "metadata": {},
     "output_type": "execute_result"
    }
   ],
   "source": [
    "find_conv(20, 25, 3)"
   ]
  },
  {
   "cell_type": "code",
   "execution_count": 20,
   "metadata": {},
   "outputs": [
    {
     "name": "stdout",
     "output_type": "stream",
     "text": [
      "(6x6) kernel, 0 padding\n",
      "(1x1) kernel, 0 padding\n",
      "(1x1) kernel, 0 padding\n"
     ]
    },
    {
     "data": {
      "text/plain": [
       "[(6, 0), (1, 0), (1, 0)]"
      ]
     },
     "execution_count": 20,
     "metadata": {},
     "output_type": "execute_result"
    }
   ],
   "source": [
    "find_conv(25, 20, 3)"
   ]
  }
 ],
 "metadata": {
  "kernelspec": {
   "display_name": "ml_courses",
   "language": "python",
   "name": "python3"
  },
  "language_info": {
   "codemirror_mode": {
    "name": "ipython",
    "version": 3
   },
   "file_extension": ".py",
   "mimetype": "text/x-python",
   "name": "python",
   "nbconvert_exporter": "python",
   "pygments_lexer": "ipython3",
   "version": "3.11.4"
  }
 },
 "nbformat": 4,
 "nbformat_minor": 2
}
