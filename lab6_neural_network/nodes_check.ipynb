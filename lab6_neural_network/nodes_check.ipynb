{
 "cells": [
  {
   "cell_type": "markdown",
   "metadata": {},
   "source": [
    "# Lab 6, part 1: new nodes\n",
    "by Domrachev Ivan, B20-Ro-01"
   ]
  },
  {
   "cell_type": "code",
   "execution_count": 1,
   "metadata": {},
   "outputs": [],
   "source": [
    "from nn_from_scratch.nodes import SoftMaxLoss\n",
    "from nn_from_scratch.neurons import Linear\n",
    "import numpy as np"
   ]
  },
  {
   "cell_type": "markdown",
   "metadata": {},
   "source": [
    "## Part 1. Linear Layer remake"
   ]
  },
  {
   "cell_type": "markdown",
   "metadata": {},
   "source": [
    "Previously, linear layers were implemented as:\n",
    "$$Linear(X) = WX.$$\n",
    "However, current assignment requires additional term $b$:\n",
    "$$Linear(X) = WX + b.$$"
   ]
  },
  {
   "cell_type": "markdown",
   "metadata": {},
   "source": [
    "The class `neurons.Linear` were modified to this structure. Let's check it in the same way as we did for the previous implementation:"
   ]
  },
  {
   "cell_type": "code",
   "execution_count": 2,
   "metadata": {},
   "outputs": [
    {
     "name": "stdout",
     "output_type": "stream",
     "text": [
      "Forward output:\n",
      "[[1.18494715 1.41062189 1.11896593 1.14160105 1.23413608]\n",
      " [0.70806376 0.84211581 0.62968799 0.65457458 0.69722952]\n",
      " [1.0083814  1.11864922 0.900688   0.94300045 0.9918296 ]]\n",
      "Jacobian dL/dx:\n",
      "[[0.47750095 0.50584513]\n",
      " [1.59659126 1.68018523]\n",
      " [1.17571714 1.23450319]]\n",
      "Jacobian dL/dw:\n",
      "[[1.61650053 1.68179081 1.02794801 0.92252073 1.20212856]\n",
      " [0.42774024 0.36441561 0.26182885 0.11457575 0.28209585]\n",
      " [0.94395783 1.1200461  0.40326474 0.76542123 0.47258473]]\n"
     ]
    }
   ],
   "source": [
    "input_dim=(3, 2)\n",
    "output_dim=(3, 5)\n",
    "relu = Linear(input_dim, output_dim)\n",
    "\n",
    "# Random input values (x itself, and assumed partial derivative)\n",
    "x_input = np.random.rand(*input_dim)\n",
    "dL_dy = np.random.rand(*output_dim)\n",
    "\n",
    "# Forward call\n",
    "y_value = relu.forward(x_input)\n",
    "\n",
    "# Backpropogation\n",
    "dL_dx = relu.backward(dL_dy)\n",
    "dL_dw = relu._W_pd\n",
    "\n",
    "print(\"Forward output:\")\n",
    "print(y_value)\n",
    "print(\"Jacobian dL/dx:\")\n",
    "print(dL_dx)\n",
    "print(\"Jacobian dL/dw:\")\n",
    "print(dL_dw)"
   ]
  },
  {
   "cell_type": "markdown",
   "metadata": {},
   "source": [
    "Also note that calculations of back propogation wia jacobians lead to the same result:"
   ]
  },
  {
   "cell_type": "code",
   "execution_count": 3,
   "metadata": {},
   "outputs": [
    {
     "name": "stdout",
     "output_type": "stream",
     "text": [
      "Jacobian dL/dx:\n",
      "[[0.47750095 0.50584513]\n",
      " [1.59659126 1.68018523]\n",
      " [1.17571714 1.23450319]]\n",
      "Jacobian dL/dw\n",
      "[[1.61650053 1.68179081 1.02794801 0.92252073 1.20212856]\n",
      " [0.42774024 0.36441561 0.26182885 0.11457575 0.28209585]\n",
      " [0.94395783 1.1200461  0.40326474 0.76542123 0.47258473]]\n"
     ]
    }
   ],
   "source": [
    "dL_dx_jac = relu.backward(dL_dy, use_jacobian=True)\n",
    "dL_dw_jac = relu._W_pd\n",
    "\n",
    "print(\"Jacobian dL/dx:\")\n",
    "print(dL_dx_jac)\n",
    "\n",
    "print(\"Jacobian dL/dw\")\n",
    "print(dL_dw_jac)"
   ]
  },
  {
   "cell_type": "markdown",
   "metadata": {},
   "source": [
    "Finally, note that despite $X \\in \\mathbb{R}^{2 \\times 3},\\quad Y \\in \\mathbb{R}^{5 \\times 3}$, the weight matrix $W$ has dimension $\\mathbb{R}^{5 \\times 3}$"
   ]
  },
  {
   "cell_type": "markdown",
   "metadata": {},
   "source": [
    "## Part 2. Softmax Loss function"
   ]
  },
  {
   "cell_type": "markdown",
   "metadata": {},
   "source": [
    "Also, a softmax-loss function:\n",
    "$$L = \\frac{1}{N} \\sum -\\log \\left (y\\frac{\\exp^{x_i/x_{max}}}{\\sum_{j=1}^{N} \\exp^{x_j/x_{max}}} \\right)$$\n",
    "was implemented as `nodes.SoftMaxLoss`"
   ]
  },
  {
   "cell_type": "markdown",
   "metadata": {},
   "source": [
    "> Note: the current implementation allows to use the same base class for Node and Loss function. The only differences are:\n",
    "> 1. The labels $y$ are used in forward and backward computation.\n",
    "> 2. Backpropogation doesn't contain incoming gradient \n",
    "> 3. The output is scalar and p.d. are one-dimensional\n",
    ">\n",
    "> This implementation differs from other libraries, such as `torch`, and probably has some disadvangates in scaling, but works perfectly in my case."
   ]
  },
  {
   "cell_type": "markdown",
   "metadata": {},
   "source": [
    "Here is some example implementation:"
   ]
  },
  {
   "cell_type": "code",
   "execution_count": 4,
   "metadata": {},
   "outputs": [
    {
     "name": "stdout",
     "output_type": "stream",
     "text": [
      "[0.19118483 0.22269646 0.36330756 0.19139163 0.15870146] [0 1 1 0 0]\n",
      "[0.73284375]\n",
      "Forward output:\n",
      "[0.73284375]\n",
      "Jacobian dL/dx:\n",
      "[ 0.         -0.58808293 -0.40633713  0.          0.        ]\n"
     ]
    }
   ],
   "source": [
    "input_dim = 5\n",
    "softmax_loss = SoftMaxLoss(input_dim)\n",
    "\n",
    "x_input = np.random.rand(input_dim)\n",
    "labels = np.random.choice(2, input_dim)\n",
    "print(x_input, labels)\n",
    "y_value = softmax_loss.forward(x_input, labels)\n",
    "print(y_value)\n",
    "dL_dx = softmax_loss.backward(x_input)\n",
    "\n",
    "print(\"Forward output:\")\n",
    "print(y_value)\n",
    "print(\"Jacobian dL/dx:\")\n",
    "print(dL_dx)"
   ]
  },
  {
   "cell_type": "markdown",
   "metadata": {},
   "source": [
    "Matrices as input are supported as well:"
   ]
  },
  {
   "cell_type": "code",
   "execution_count": 5,
   "metadata": {},
   "outputs": [
    {
     "name": "stdout",
     "output_type": "stream",
     "text": [
      "[[0.4098809  0.70290909 0.79803945 0.49825987 0.77122749]\n",
      " [0.79044226 0.89593445 0.9434427  0.11767817 0.30124511]\n",
      " [0.55392198 0.29637471 0.93043622 0.45001948 0.02593289]\n",
      " [0.05164899 0.80490725 0.58662845 0.78830689 0.64627729]\n",
      " [0.67014526 0.76241184 0.9911628  0.59353523 0.92045358]\n",
      " [0.26689125 0.13970089 0.58903479 0.45844383 0.71752884]\n",
      " [0.20094275 0.16369616 0.89409796 0.77364318 0.93933076]\n",
      " [0.23557799 0.26885793 0.11884898 0.45365429 0.79282601]\n",
      " [0.62282782 0.44568548 0.09219348 0.46343266 0.18359826]\n",
      " [0.90403437 0.33314109 0.1249022  0.87229509 0.89545525]] [[1 0 1 0 0]\n",
      " [1 1 1 1 0]\n",
      " [0 0 0 1 1]\n",
      " [0 0 0 1 0]\n",
      " [0 0 0 1 0]\n",
      " [1 0 0 1 0]\n",
      " [0 1 0 1 0]\n",
      " [0 1 1 0 1]\n",
      " [0 1 1 1 0]\n",
      " [1 0 0 1 1]]\n",
      "Forward output:\n",
      "[0.88970002]\n",
      "Jacobian dL/dx:\n",
      "[[-0.16707145  0.         -0.18882362  0.          0.        ]\n",
      " [-1.27812771 -1.37930803 -0.95665661 -0.7209445   0.        ]\n",
      " [ 0.          0.          0.         -0.14085896 -0.09694169]\n",
      " [ 0.          0.          0.         -0.16585208  0.        ]\n",
      " [ 0.          0.          0.         -0.07562181  0.        ]\n",
      " [-0.17111021  0.          0.         -0.21122309  0.        ]\n",
      " [ 0.         -0.10513975  0.         -0.17644872  0.        ]\n",
      " [ 0.         -0.37842057 -0.32401548  0.         -0.21614669]\n",
      " [ 0.         -0.48225734 -0.30645712 -0.49219194  0.        ]\n",
      " [-0.56043764  0.          0.         -0.73527584 -0.74793778]]\n"
     ]
    }
   ],
   "source": [
    "input_dim = (10, 5)\n",
    "softmax_loss = SoftMaxLoss(input_dim)\n",
    "\n",
    "x_input = np.random.rand(*input_dim)\n",
    "labels = np.random.choice(2, input_dim)\n",
    "print(x_input, labels)\n",
    "y_value = softmax_loss.forward(x_input, labels)\n",
    "dL_dx = softmax_loss.backward(x_input)\n",
    "\n",
    "print(\"Forward output:\")\n",
    "print(y_value)\n",
    "print(\"Jacobian dL/dx:\")\n",
    "print(dL_dx)"
   ]
  }
 ],
 "metadata": {
  "kernelspec": {
   "display_name": "ml_courses",
   "language": "python",
   "name": "python3"
  },
  "language_info": {
   "codemirror_mode": {
    "name": "ipython",
    "version": 3
   },
   "file_extension": ".py",
   "mimetype": "text/x-python",
   "name": "python",
   "nbconvert_exporter": "python",
   "pygments_lexer": "ipython3",
   "version": "3.11.4"
  },
  "orig_nbformat": 4
 },
 "nbformat": 4,
 "nbformat_minor": 2
}
