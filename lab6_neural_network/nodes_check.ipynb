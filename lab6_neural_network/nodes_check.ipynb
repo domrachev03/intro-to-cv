{
 "cells": [
  {
   "cell_type": "markdown",
   "metadata": {},
   "source": [
    "# Lab 6, part 1: new nodes\n",
    "by Domrachev Ivan, B20-Ro-01"
   ]
  },
  {
   "cell_type": "code",
   "execution_count": 2,
   "metadata": {},
   "outputs": [],
   "source": [
    "from nn_from_scratch.nodes import SoftMaxLoss\n",
    "from nn_from_scratch.neurons import Linear\n",
    "import numpy as np"
   ]
  },
  {
   "cell_type": "markdown",
   "metadata": {},
   "source": [
    "## Part 1. Linear Layer remake"
   ]
  },
  {
   "cell_type": "markdown",
   "metadata": {},
   "source": [
    "Previously, linear layers were implemented as:\n",
    "$$Linear(X) = WX.$$\n",
    "However, current assignment requires additional term $b$:\n",
    "$$Linear(X) = WX + b.$$"
   ]
  },
  {
   "cell_type": "markdown",
   "metadata": {},
   "source": [
    "The class `neurons.Linear` were modified to this structure. Let's check it in the same way as we did for the previous implementation:"
   ]
  },
  {
   "cell_type": "code",
   "execution_count": 3,
   "metadata": {},
   "outputs": [
    {
     "name": "stdout",
     "output_type": "stream",
     "text": [
      "Forward output:\n",
      "[[0.66301283 1.0737497  1.20726502]\n",
      " [0.76842175 1.21742733 1.36230741]\n",
      " [0.74308348 1.18529264 1.33006013]\n",
      " [0.8062085  1.25688708 1.40187946]\n",
      " [0.65207598 1.03503492 1.15885404]]\n",
      "Jacobian dL/dx:\n",
      "[[1.57724655 1.33246985 1.86702889]\n",
      " [1.51963415 1.2850436  1.93761231]]\n",
      "Jacobian dL/dw:\n",
      "[[2.36535438 1.42097401 0.99714234]\n",
      " [1.98563344 1.24312054 0.86382985]\n",
      " [1.67961297 0.93502298 0.65841791]\n",
      " [1.59854282 1.22054438 0.85224498]\n",
      " [1.83132879 1.34329134 0.94023213]]\n"
     ]
    }
   ],
   "source": [
    "input_dim=(2, 3)\n",
    "output_dim=(5, 3)\n",
    "relu = Linear(input_dim, output_dim)\n",
    "\n",
    "# Random input values (x itself, and assumed partial derivative)\n",
    "x_input = np.random.rand(*input_dim)\n",
    "dL_dy = np.random.rand(*output_dim)\n",
    "\n",
    "# Forward call\n",
    "y_value = relu.forward(x_input)\n",
    "\n",
    "# Backpropogation\n",
    "dL_dx = relu.backward(dL_dy)\n",
    "dL_dw = relu._W_pd\n",
    "\n",
    "print(\"Forward output:\")\n",
    "print(y_value)\n",
    "print(\"Jacobian dL/dx:\")\n",
    "print(dL_dx)\n",
    "print(\"Jacobian dL/dw:\")\n",
    "print(dL_dw)"
   ]
  },
  {
   "cell_type": "markdown",
   "metadata": {},
   "source": [
    "Also note that calculations of back propogation wia jacobians lead to the same result:"
   ]
  },
  {
   "cell_type": "code",
   "execution_count": 4,
   "metadata": {},
   "outputs": [
    {
     "name": "stdout",
     "output_type": "stream",
     "text": [
      "Jacobian dL/dx:\n",
      "[[1.57724655 1.33246985 1.86702889]\n",
      " [1.51963415 1.2850436  1.93761231]]\n",
      "Jacobian dL/dw\n",
      "[[2.36535438 1.42097401 0.99714234]\n",
      " [1.98563344 1.24312054 0.86382985]\n",
      " [1.67961297 0.93502298 0.65841791]\n",
      " [1.59854282 1.22054438 0.85224498]\n",
      " [1.83132879 1.34329134 0.94023213]]\n"
     ]
    }
   ],
   "source": [
    "dL_dx_jac = relu.backward(dL_dy, use_jacobian=True)\n",
    "dL_dw_jac = relu._W_pd\n",
    "\n",
    "print(\"Jacobian dL/dx:\")\n",
    "print(dL_dx_jac)\n",
    "\n",
    "print(\"Jacobian dL/dw\")\n",
    "print(dL_dw_jac)"
   ]
  },
  {
   "cell_type": "markdown",
   "metadata": {},
   "source": [
    "Finally, note that despite $X \\in \\mathbb{R}^{2 \\times 3},\\quad Y \\in \\mathbb{R}^{5 \\times 3}$, the weight matrix $W$ has dimension $\\mathbb{R}^{5 \\times 3}$"
   ]
  },
  {
   "cell_type": "markdown",
   "metadata": {},
   "source": [
    "## Part 2. Softmax Loss function"
   ]
  },
  {
   "cell_type": "markdown",
   "metadata": {},
   "source": [
    "Also, a softmax-loss function:\n",
    "$$L = -\\log \\left (y\\frac{\\exp^{x_i/x_{max}}}{\\sum_{j=1}^{N} \\exp^{x_j/x_{max}}} \\right)$$\n",
    "was implemented as `nodes.SoftMaxLoss`"
   ]
  },
  {
   "cell_type": "markdown",
   "metadata": {},
   "source": [
    "> Note: the current implementation allows to use the same base class for Node and Loss function. The only differences are:\n",
    "> 1. The labels $y$ are used in forward and backward computation.\n",
    "> 2. Backpropogation doesn't contain incoming gradient \n",
    "> 3. The output is scalar and p.d. are one-dimensional\n",
    ">\n",
    "> This implementation differs from other libraries, such as `torch`, and probably has some disadvangates in scaling, but works perfectly in my case."
   ]
  },
  {
   "cell_type": "markdown",
   "metadata": {},
   "source": [
    "Here is some example implementation:"
   ]
  },
  {
   "cell_type": "code",
   "execution_count": 5,
   "metadata": {},
   "outputs": [
    {
     "name": "stdout",
     "output_type": "stream",
     "text": [
      "[0.41104046 0.08419121 0.42634531 0.44916483 0.56230137] [1 0 0 1 0]\n",
      "0.8847264065266106\n",
      "Forward output:\n",
      "0.8847264065266106\n",
      "Jacobian dL/dx:\n",
      "[[-0.39116001  0.          0.         -0.40235145  0.        ]]\n"
     ]
    }
   ],
   "source": [
    "input_dim = 5\n",
    "softmax_loss = SoftMaxLoss(input_dim)\n",
    "\n",
    "x_input = np.random.rand(input_dim)\n",
    "labels = np.random.choice(2, input_dim)\n",
    "print(x_input, labels)\n",
    "y_value = softmax_loss.forward(x_input, labels)\n",
    "print(y_value)\n",
    "dL_dx = softmax_loss.backward(x_input)\n",
    "\n",
    "print(\"Forward output:\")\n",
    "print(y_value)\n",
    "print(\"Jacobian dL/dx:\")\n",
    "print(dL_dx)"
   ]
  }
 ],
 "metadata": {
  "kernelspec": {
   "display_name": "ml_courses",
   "language": "python",
   "name": "python3"
  },
  "language_info": {
   "codemirror_mode": {
    "name": "ipython",
    "version": 3
   },
   "file_extension": ".py",
   "mimetype": "text/x-python",
   "name": "python",
   "nbconvert_exporter": "python",
   "pygments_lexer": "ipython3",
   "version": "3.11.4"
  },
  "orig_nbformat": 4
 },
 "nbformat": 4,
 "nbformat_minor": 2
}
